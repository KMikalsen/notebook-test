{
 "cells": [
  {
   "cell_type": "code",
   "execution_count": 2,
   "metadata": {},
   "outputs": [
    {
     "name": "stdout",
     "output_type": "stream",
     "text": [
      "hello world\n"
     ]
    }
   ],
   "source": [
    "print(\"hello world\")"
   ]
  },
  {
   "cell_type": "code",
   "execution_count": 6,
   "metadata": {},
   "outputs": [],
   "source": [
    "import requests"
   ]
  },
  {
   "cell_type": "code",
   "execution_count": 7,
   "metadata": {},
   "outputs": [],
   "source": [
    "api_url = \"https://test2-api.nifs.no/tournaments/5\"\n",
    "\n",
    "r = requests.get(url=api_url)"
   ]
  },
  {
   "cell_type": "code",
   "execution_count": 8,
   "metadata": {},
   "outputs": [
    {
     "name": "stdout",
     "output_type": "stream",
     "text": [
      "{'name': 'Eliteserien', 'gender': 'men', 'level': 1, 'country': {'name': 'Norge', 'shortName': 'NOR', 'type': 'nifs:countryCompact', 'uid': 'cou_c_1', 'id': 1}, 'neutralVenues': False, 'tournamentTypeId': 2, 'tournamentCategoryId': 1, 'visibilityId': 1, 'norwegianDescription': 'Øverste divisjon i Norge', 'names': [{'name': 'Eliteserien', 'use': 'NTB-navn', 'useId': 22, 'dateStart': None, 'dateEnd': None, 'type': 'nifs:name', 'uid': 'nto_3', 'id': 3}, {'name': 'Eliteserien', 'use': 'NTB-navn', 'useId': 22, 'dateStart': None, 'dateEnd': None, 'type': 'nifs:name', 'uid': 'nto_3', 'id': 3}], 'logo': {'url': 'https://s3-eu-west-1.amazonaws.com/ntb-nifs/44275.png', 'type': 'nifs:image', 'uid': 'i_44275', 'id': 44275}, 'type': 'nifs:tournament', 'uid': 't_5', 'id': 5, 'sportId': 1}\n"
     ]
    }
   ],
   "source": [
    "print(r.json())"
   ]
  },
  {
   "cell_type": "code",
   "execution_count": null,
   "metadata": {},
   "outputs": [],
   "source": []
  }
 ],
 "metadata": {
  "kernelspec": {
   "display_name": "Python 3",
   "language": "python",
   "name": "python3"
  },
  "language_info": {
   "codemirror_mode": {
    "name": "ipython",
    "version": 3
   },
   "file_extension": ".py",
   "mimetype": "text/x-python",
   "name": "python",
   "nbconvert_exporter": "python",
   "pygments_lexer": "ipython3",
   "version": "3.6.9"
  }
 },
 "nbformat": 4,
 "nbformat_minor": 4
}
